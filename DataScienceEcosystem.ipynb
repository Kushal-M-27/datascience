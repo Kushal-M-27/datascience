{
 "cells": [
  {
   "cell_type": "markdown",
   "id": "e1073e93-66ea-4a08-aa08-9c8860a2ad57",
   "metadata": {},
   "source": [
    "# Data Science Tools and Ecosystem\n"
   ]
  },
  {
   "cell_type": "markdown",
   "id": "c86b723c-236d-40e8-92ab-fa418a6d3c8d",
   "metadata": {},
   "source": [
    "In this notebook, Data Science Tools and Ecosystem are summarized.\n"
   ]
  },
  {
   "cell_type": "markdown",
   "id": "58104f30-66e9-42d6-bd8b-d7d0a1b9a4f8",
   "metadata": {},
   "source": [
    "__Objectives:__<br>\n",
    "* Some of the popular languages that Data Scientists use <br>\n",
    "* Some of the commonly used libraries used by Data Scientists <br>\n",
    "* Evaluating arithmetic expressions in Python\n",
    "\n",
    "\n"
   ]
  },
  {
   "cell_type": "markdown",
   "id": "0bd99a98-1b5f-48b9-987f-7d8c9cebd2cc",
   "metadata": {},
   "source": [
    "Some of the popular languages that Data Scientists use are:<br>\n",
    "1.Python<br>\n",
    "2.Sql<br>\n",
    "3.R <br>\n",
    "4.Java<br>\n",
    "5.Scala<br>\n"
   ]
  },
  {
   "cell_type": "markdown",
   "id": "ff549594-187f-41e6-98bf-f331b7e4da07",
   "metadata": {},
   "source": [
    "Some of the commonly used libraries used by Data Scientists include:<br>\n",
    "1.Pandas<br>\n",
    "2.NumPy<br>\n",
    "3.Matplotlib<br>\n",
    "4.Scipy<br>\n",
    "5.Keras<br>\n"
   ]
  },
  {
   "cell_type": "markdown",
   "id": "bcc31fa2-6071-4dc8-a325-c7645503de60",
   "metadata": {
    "jp-MarkdownHeadingCollapsed": true,
    "tags": []
   },
   "source": [
    " |Data Science Tools| \n",
    "|-----|\n",
    "Apache spark\n",
    "Tableau\n",
    "Sas\n",
    "Scikit-learn\n",
    "\n"
   ]
  },
  {
   "cell_type": "markdown",
   "id": "29debf1c-5328-46cb-9930-2f123a108cf1",
   "metadata": {},
   "source": [
    "### Below are a few examples of evaluating arithmetic expressions in Python-\n"
   ]
  },
  {
   "cell_type": "code",
   "execution_count": 7,
   "id": "4e1820b0-4018-48f4-b0ce-b97b689a5a1f",
   "metadata": {
    "tags": []
   },
   "outputs": [
    {
     "data": {
      "text/plain": [
       "17"
      ]
     },
     "execution_count": 7,
     "metadata": {},
     "output_type": "execute_result"
    }
   ],
   "source": [
    "(3*4)+5\n"
   ]
  },
  {
   "cell_type": "code",
   "execution_count": 8,
   "id": "6d149132-60ab-4955-ac98-eaf8c448f620",
   "metadata": {
    "tags": []
   },
   "outputs": [
    {
     "data": {
      "text/plain": [
       "6"
      ]
     },
     "execution_count": 8,
     "metadata": {},
     "output_type": "execute_result"
    }
   ],
   "source": [
    "(3+5)-2\n"
   ]
  },
  {
   "cell_type": "code",
   "execution_count": 6,
   "id": "fc3a1b75-c69a-4fe8-a4f8-5058ffaaf13c",
   "metadata": {
    "tags": []
   },
   "outputs": [
    {
     "data": {
      "text/plain": [
       "16"
      ]
     },
     "execution_count": 6,
     "metadata": {},
     "output_type": "execute_result"
    }
   ],
   "source": [
    "4*4\n"
   ]
  },
  {
   "cell_type": "code",
   "execution_count": 9,
   "id": "6a8dce63-6162-4a52-88b4-1bebf54d51d6",
   "metadata": {
    "tags": []
   },
   "outputs": [
    {
     "data": {
      "text/plain": [
       "3.3333333333333335"
      ]
     },
     "execution_count": 9,
     "metadata": {},
     "output_type": "execute_result"
    }
   ],
   "source": [
    "#This will convert 200 minutes to hours by dividing by 60\n",
    "\n",
    "200/60"
   ]
  },
  {
   "cell_type": "markdown",
   "id": "90588842-3737-49b9-86b3-06af05b18770",
   "metadata": {},
   "source": [
    "## Author\n",
    "Kushal"
   ]
  },
  {
   "cell_type": "code",
   "execution_count": null,
   "id": "0e892b7e-64ae-46ab-a87a-695ffbdad1eb",
   "metadata": {},
   "outputs": [],
   "source": []
  }
 ],
 "metadata": {
  "kernelspec": {
   "display_name": "Python",
   "language": "python",
   "name": "conda-env-python-py"
  },
  "language_info": {
   "codemirror_mode": {
    "name": "ipython",
    "version": 3
   },
   "file_extension": ".py",
   "mimetype": "text/x-python",
   "name": "python",
   "nbconvert_exporter": "python",
   "pygments_lexer": "ipython3",
   "version": "3.7.12"
  }
 },
 "nbformat": 4,
 "nbformat_minor": 5
}
